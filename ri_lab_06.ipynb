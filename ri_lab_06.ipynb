{
  "nbformat": 4,
  "nbformat_minor": 0,
  "metadata": {
    "colab": {
      "name": "ri_lab_06.ipynb",
      "version": "0.3.2",
      "provenance": [],
      "collapsed_sections": [],
      "toc_visible": true
    },
    "kernelspec": {
      "name": "python3",
      "display_name": "Python 3"
    }
  },
  "cells": [
    {
      "cell_type": "markdown",
      "metadata": {
        "id": "80oO2QCMHsSE",
        "colab_type": "text"
      },
      "source": [
        "# Modelo Vetorial  - Recuperação da Informação\n",
        "**Aluno: Pedro Guedes Braga**\n"
      ]
    },
    {
      "cell_type": "code",
      "metadata": {
        "id": "cOXsE-Z0H4rV",
        "colab_type": "code",
        "outputId": "8f5a9b52-b652-466f-b1fd-cbc2ea46f7ba",
        "colab": {
          "base_uri": "https://localhost:8080/",
          "height": 85
        }
      },
      "source": [
        "#coding: utf-8\n",
        "\n",
        "import pandas as pd\n",
        "import nltk\n",
        "import operator\n",
        "import math\n",
        "import matplotlib.pyplot as pyplot\n",
        "from nltk.tokenize import word_tokenize, sent_tokenize\n",
        "from nltk.stem import *\n",
        "nltk.download('stopwords')\n",
        "nltk.download('punkt') \n",
        "import csv\n",
        "import time\n",
        "import numpy\n",
        "from operator import itemgetter"
      ],
      "execution_count": 91,
      "outputs": [
        {
          "output_type": "stream",
          "text": [
            "[nltk_data] Downloading package stopwords to /root/nltk_data...\n",
            "[nltk_data]   Package stopwords is already up-to-date!\n",
            "[nltk_data] Downloading package punkt to /root/nltk_data...\n",
            "[nltk_data]   Package punkt is already up-to-date!\n"
          ],
          "name": "stdout"
        }
      ]
    },
    {
      "cell_type": "markdown",
      "metadata": {
        "id": "YD97FGlsJN1U",
        "colab_type": "text"
      },
      "source": [
        "#**1 - Reconstruir o índice considerando o conjunto de dados que indicamos. Esses são os dados coletados por Bernardi e os estaremos usando para facilitar a correção da atividade. Se você já estiver usando esses dados não precisa reconstruir o índice**\n",
        "\n",
        "\n"
      ]
    },
    {
      "cell_type": "code",
      "metadata": {
        "id": "HK9VKcIE5-BP",
        "colab_type": "code",
        "colab": {}
      },
      "source": [
        "url_csv = \"https://raw.githubusercontent.com/PedroGuedesBraga/lab06_ri/master/results.csv\"\n",
        "df = pd.read_csv(url_csv)\n",
        "df.dropna(inplace=True)  ##Retira campos NA (ex.: NaN, etc)\n",
        "lista_de_noticias = df.text.unique() #Retorna uma lista onde cada elemento é o texto de uma noticia.\n",
        " # http://www.nltk.org/howto/portuguese_en.html - Tutorial StopWords\n",
        " # https://pythonspot.com/tokenizing-words-and-sentences-with-nltk/\n",
        "palavras_a_ignorar = nltk.corpus.stopwords.words('portuguese')\n",
        "palavras_a_ignorar.append('o')\n",
        "palavras_a_ignorar.append('a')\n",
        "palavras_a_ignorar.append('é')\n",
        "palavras_a_ignorar.append('r')\n",
        "  \n",
        "special_chars = [',', '.', '-', '“', \"”\", \")\", \"(\", \":\", \"%\", \"?\", \"$\", \"–\", \"\"]\n",
        "\n",
        "\n",
        "\n",
        "##Auxiliares\n",
        "##Recebe um token(ja em lowercase) e aplica mais estratégias de tokenizacao, descritas pelas duas funcoes auxiliares acima.\n",
        "def apply_tokenize_strategy(token):\n",
        "  return remove_periods((remove_apostrophes(token)))\n",
        "\n",
        "##Metodo auxiliar que remove apostrofos dos tokens, retornando um token em seu formato sem apostrofo\n",
        "def remove_apostrophes(token):\n",
        "  return token.replace(\"’\", \"\").replace(\"'\",\"\")\n",
        "  \n",
        "##Metodo auxiliar que remove pontos em uma abreviacao\n",
        "def remove_periods(token):\n",
        "  return token.replace(\".\", \"\")\n",
        "\n",
        "#Funcao auxiliar, que simplesmente resgata todos os documentos no indice\n",
        "def getAllDocuments(index):\n",
        "  list_of_documents = []\n",
        "  for word in index:\n",
        "    for tupla in index[word]:\n",
        "      if(tupla[0] not in list_of_documents):\n",
        "        list_of_documents.append(tupla[0])\n",
        "        \n",
        "  return list_of_documents\n",
        "\n",
        "\n",
        "\n",
        "\n",
        "\n",
        "\n",
        "\n",
        "##Questao 1\n",
        "##Funcao para construir o índice:\n",
        "def build_index(documents):\n",
        "  index = {}\n",
        "  n = 0\n",
        "  for document in documents:\n",
        "    n = n + 1\n",
        "    tokens = word_tokenize(document)\n",
        "    for token in tokens:\n",
        "      if((apply_tokenize_strategy(token.lower()) not in palavras_a_ignorar) and (apply_tokenize_strategy(token.lower()) not in special_chars) and (\",\" not in token.lower())):  ## Todos os tokens passam a serem tratados em LOWERCASE\n",
        "        if(apply_tokenize_strategy(token.lower()) in index):\n",
        "          index[apply_tokenize_strategy(token.lower())].append((n, tokens.count(token)))\n",
        "        else:\n",
        "          index[apply_tokenize_strategy(token.lower())] = [(n, tokens.count(token))]\n",
        "  refactored_index = aux_refactor_index(index)\n",
        "  return refactored_index\n",
        "\n",
        "\n",
        "#funcao auxiliar responsavel por refatorar as listas invertidas do indice para retorna-la no formato pedido. - Remove duplicatas de documentos\n",
        "def aux_refactor_index(index):\n",
        "  for word in index:\n",
        "    for tupla in index[word]:\n",
        "      index[word] = list(index[word])\n",
        "  return index\n",
        "    \n",
        "  \n",
        "##Constrói o indice##\n",
        "indice = build_index(lista_de_noticias)  \n",
        "\n",
        "\n",
        "\n",
        "\n",
        "\n",
        "\n"
      ],
      "execution_count": 0,
      "outputs": []
    },
    {
      "cell_type": "markdown",
      "metadata": {
        "id": "BBgSRH8nhUHw",
        "colab_type": "text"
      },
      "source": [
        "#**2. Refinar o índice invertido de forma a também incluir o IDF (inverse document frequency) de cada termo do dicionário; (10 pts)**"
      ]
    },
    {
      "cell_type": "code",
      "metadata": {
        "id": "VSRvsiFmhY5G",
        "colab_type": "code",
        "colab": {
          "base_uri": "https://localhost:8080/",
          "height": 359
        },
        "outputId": "e3024a28-2d51-4234-9c39-f7d638eb7743"
      },
      "source": [
        "indice = build_index(lista_de_noticias)\n",
        "##Calcula o idf\n",
        "number_of_documents = len(getAllDocuments(indice))\n",
        "for word in indice:\n",
        "  nk = len(indice[word])\n",
        "  idf = numpy.log(number_of_documents / nk)\n",
        "  indice[word] = list(indice[word]) #Converte set para lista - Só para melhor visualizacao mesmo\n",
        "  indice[word].append(idf)\n",
        "\n",
        "\n",
        "words = [word for word in indice][0:10]\n",
        "doc_freq_list = [indice[word] for word in indice][0:10]\n",
        "idfs = [indice[word][-1] for word in indice][0:10]\n",
        "pd.DataFrame({\n",
        "    'Palavras': words,\n",
        "    'Doc freq list': doc_freq_list,\n",
        "    'IDF': idfs\n",
        "})"
      ],
      "execution_count": 93,
      "outputs": [
        {
          "output_type": "execute_result",
          "data": {
            "text/html": [
              "<div>\n",
              "<style scoped>\n",
              "    .dataframe tbody tr th:only-of-type {\n",
              "        vertical-align: middle;\n",
              "    }\n",
              "\n",
              "    .dataframe tbody tr th {\n",
              "        vertical-align: top;\n",
              "    }\n",
              "\n",
              "    .dataframe thead th {\n",
              "        text-align: right;\n",
              "    }\n",
              "</style>\n",
              "<table border=\"1\" class=\"dataframe\">\n",
              "  <thead>\n",
              "    <tr style=\"text-align: right;\">\n",
              "      <th></th>\n",
              "      <th>Palavras</th>\n",
              "      <th>Doc freq list</th>\n",
              "      <th>IDF</th>\n",
              "    </tr>\n",
              "  </thead>\n",
              "  <tbody>\n",
              "    <tr>\n",
              "      <th>0</th>\n",
              "      <td>juíza</td>\n",
              "      <td>[(1, 2), (1, 2), (2, 1), 4.418840607796598]</td>\n",
              "      <td>4.418841</td>\n",
              "    </tr>\n",
              "    <tr>\n",
              "      <th>1</th>\n",
              "      <td>federal</td>\n",
              "      <td>[(1, 1), (1, 1), (2, 1), (2, 1), (3, 1), (6, 1...</td>\n",
              "      <td>1.110734</td>\n",
              "    </tr>\n",
              "    <tr>\n",
              "      <th>2</th>\n",
              "      <td>ivani</td>\n",
              "      <td>[(1, 1), (2, 1), 4.824305715904762]</td>\n",
              "      <td>4.824306</td>\n",
              "    </tr>\n",
              "    <tr>\n",
              "      <th>3</th>\n",
              "      <td>silva</td>\n",
              "      <td>[(1, 3), (1, 3), (1, 3), (2, 1), (6, 1), (14, ...</td>\n",
              "      <td>2.878396</td>\n",
              "    </tr>\n",
              "    <tr>\n",
              "      <th>4</th>\n",
              "      <td>luz</td>\n",
              "      <td>[(1, 3), (1, 3), (1, 3), (2, 1), (9, 1), (17, ...</td>\n",
              "      <td>2.472930</td>\n",
              "    </tr>\n",
              "    <tr>\n",
              "      <th>5</th>\n",
              "      <td>brasília</td>\n",
              "      <td>[(1, 1), (8, 1), (33, 1), (35, 1), (44, 1), (4...</td>\n",
              "      <td>2.083466</td>\n",
              "    </tr>\n",
              "    <tr>\n",
              "      <th>6</th>\n",
              "      <td>proibiu</td>\n",
              "      <td>[(1, 1), (2, 1), (119, 1), (162, 1), 4.1311585...</td>\n",
              "      <td>4.131159</td>\n",
              "    </tr>\n",
              "    <tr>\n",
              "      <th>7</th>\n",
              "      <td>caráter</td>\n",
              "      <td>[(1, 1), (15, 1), (36, 1), (60, 1), (89, 1), (...</td>\n",
              "      <td>3.214868</td>\n",
              "    </tr>\n",
              "    <tr>\n",
              "      <th>8</th>\n",
              "      <td>liminar</td>\n",
              "      <td>[(1, 1), (2, 3), (2, 3), (2, 3), (119, 1), (21...</td>\n",
              "      <td>3.725693</td>\n",
              "    </tr>\n",
              "    <tr>\n",
              "      <th>9</th>\n",
              "      <td>nesta</td>\n",
              "      <td>[(1, 2), (1, 2), (4, 1), (8, 1), (21, 1), (22,...</td>\n",
              "      <td>0.582979</td>\n",
              "    </tr>\n",
              "  </tbody>\n",
              "</table>\n",
              "</div>"
            ],
            "text/plain": [
              "   Palavras                                      Doc freq list       IDF\n",
              "0     juíza        [(1, 2), (1, 2), (2, 1), 4.418840607796598]  4.418841\n",
              "1   federal  [(1, 1), (1, 1), (2, 1), (2, 1), (3, 1), (6, 1...  1.110734\n",
              "2     ivani                [(1, 1), (2, 1), 4.824305715904762]  4.824306\n",
              "3     silva  [(1, 3), (1, 3), (1, 3), (2, 1), (6, 1), (14, ...  2.878396\n",
              "4       luz  [(1, 3), (1, 3), (1, 3), (2, 1), (9, 1), (17, ...  2.472930\n",
              "5  brasília  [(1, 1), (8, 1), (33, 1), (35, 1), (44, 1), (4...  2.083466\n",
              "6   proibiu  [(1, 1), (2, 1), (119, 1), (162, 1), 4.1311585...  4.131159\n",
              "7   caráter  [(1, 1), (15, 1), (36, 1), (60, 1), (89, 1), (...  3.214868\n",
              "8   liminar  [(1, 1), (2, 3), (2, 3), (2, 3), (119, 1), (21...  3.725693\n",
              "9     nesta  [(1, 2), (1, 2), (4, 1), (8, 1), (21, 1), (22,...  0.582979"
            ]
          },
          "metadata": {
            "tags": []
          },
          "execution_count": 93
        }
      ]
    },
    {
      "cell_type": "markdown",
      "metadata": {
        "id": "ahs0qE8rti7k",
        "colab_type": "text"
      },
      "source": [
        "#**3. Implementar as seguintes versões do modelo vetorial:(10 pts)**"
      ]
    },
    {
      "cell_type": "markdown",
      "metadata": {
        "id": "bssx4NUgVsWC",
        "colab_type": "text"
      },
      "source": [
        "## 3.1. Representação binária;"
      ]
    },
    {
      "cell_type": "code",
      "metadata": {
        "id": "Qb4i1v-Ct3wX",
        "colab_type": "code",
        "colab": {}
      },
      "source": [
        "def binary(query, document):\n",
        "  result = 0 #Score\n",
        "  query_words = query.split()\n",
        "  document_words = document.split()\n",
        "  \n",
        "  for word in query_words:\n",
        "    result += (word in document_words)\n",
        "  \n",
        "  return result"
      ],
      "execution_count": 0,
      "outputs": []
    },
    {
      "cell_type": "markdown",
      "metadata": {
        "id": "TX3baACwz59B",
        "colab_type": "text"
      },
      "source": [
        "## 3.2. TF (lembre-se que esse modelo já está implementado);"
      ]
    },
    {
      "cell_type": "code",
      "metadata": {
        "id": "X680UCbzV8iH",
        "colab_type": "code",
        "colab": {}
      },
      "source": [
        "def term_frequency(query, document):\n",
        "  result = 0\n",
        "  query_words = query.split()\n",
        "  document_words = document.split()\n",
        "  \n",
        "  for word in query_words:\n",
        "    result += document_words.count(word)\n",
        "  \n",
        "  return result\n"
      ],
      "execution_count": 0,
      "outputs": []
    },
    {
      "cell_type": "markdown",
      "metadata": {
        "id": "SEqrWnhxkjIG",
        "colab_type": "text"
      },
      "source": [
        "## 3.3. TF-IDF"
      ]
    },
    {
      "cell_type": "code",
      "metadata": {
        "id": "WB0FH0zj1gh0",
        "colab_type": "code",
        "colab": {}
      },
      "source": [
        "def tf_idf(query, document):\n",
        "  result = 0\n",
        "  document_words = document.split()\n",
        "  query_words = query.split()\n",
        "  \n",
        "  for word in query_words:\n",
        "    cwd = document_words.count(word)\n",
        "    if word in indice:\n",
        "      result += cwd * indice[word][-1]\n",
        "      \n",
        "  return round(result,2) #p nao ficar mt grande"
      ],
      "execution_count": 0,
      "outputs": []
    },
    {
      "cell_type": "markdown",
      "metadata": {
        "id": "oekghWoj3tSe",
        "colab_type": "text"
      },
      "source": [
        "## 3.4. BM25* (não usaremos Okapi já que os documentos não tem grande variação de tamanho)."
      ]
    },
    {
      "cell_type": "code",
      "metadata": {
        "id": "d7dZc2T1keTO",
        "colab_type": "code",
        "colab": {}
      },
      "source": [
        "def bm25(query, document, k):\n",
        "  result = 0\n",
        "  doc_words = document.split()\n",
        "  query_words = query.split()\n",
        "  \n",
        "  words = [word for word in query_words if word in doc_words]\n",
        "    \n",
        "  for word in words:\n",
        "    cwd = doc_words.count(word)\n",
        "    dfw = 0\n",
        "    if word in indice:\n",
        "      dfw = len(indice[word][:-1])\n",
        "    result += (((k+1) * cwd) / (cwd + k)) * numpy.log10(((number_of_documents+1) / dfw)) if dfw != 0 else 0\n",
        "  \n",
        "  return round(result,2) #p n ficar mt grande no resultado"
      ],
      "execution_count": 0,
      "outputs": []
    },
    {
      "cell_type": "markdown",
      "metadata": {
        "id": "AxPlTnrOlGqm",
        "colab_type": "text"
      },
      "source": [
        "# 4. Execute os algoritmos separadamente em 3 consultas de sua escolha e retorne os top-5 documentos mais similares à cada consulta;¶"
      ]
    },
    {
      "cell_type": "code",
      "metadata": {
        "id": "5XQ0CnLNlJ6O",
        "colab_type": "code",
        "outputId": "15d75bd7-5f19-4643-c583-ae51a1c7148b",
        "colab": {
          "base_uri": "https://localhost:8080/",
          "height": 193
        }
      },
      "source": [
        "consultas = ['jair bolsonaro', 'investigados policia', 'lava jato']\n",
        "\n",
        "\n",
        "def create_top5_similar(query):\n",
        "  n = 0 #doc number\n",
        "  \n",
        "  ##Listas de tuplas para cada algoritmo: [(score, doc_nmbr)]\n",
        "  binary_docs = [] \n",
        "  tf_docs = []\n",
        "  tf_idf_docs = []\n",
        "  bm25_docs = []\n",
        "  \n",
        "  for doc in lista_de_noticias:\n",
        "    doc = doc.lower()\n",
        "    n = n + 1\n",
        "    binary_docs.append((binary(query, doc),n))\n",
        "    tf_docs.append((term_frequency(query, doc),n))\n",
        "    tf_idf_docs.append((tf_idf(query, doc), n))\n",
        "    bm25_docs.append((bm25(query, doc, 20), n))\n",
        "  \n",
        "  binary_docs.sort(reverse = True)\n",
        "  tf_docs.sort(reverse=True)\n",
        "  tf_idf_docs.sort(reverse=True)\n",
        "  bm25_docs.sort(reverse=True)\n",
        "    \n",
        "  return (binary_docs[0:5], tf_docs[0:5], tf_idf_docs[0:5], bm25_docs[0:5])\n",
        "\n",
        "\n",
        "top_5_first_query = create_top5_similar(consultas[0])\n",
        "top_5_second_query = create_top5_similar(consultas[1])\n",
        "top_5_third_query = create_top5_similar(consultas[2])\n",
        "\n",
        "pd.DataFrame({\n",
        "    'Consultas': consultas,\n",
        "    'Binary': [top_5_first_query[0], top_5_second_query[0], top_5_third_query[0]],\n",
        "    'Term Frequency': [top_5_first_query[1], top_5_second_query[1], top_5_third_query[1]],\n",
        "    'TF_IDF': [top_5_first_query[2], top_5_second_query[2], top_5_third_query[2]],\n",
        "    'BM25': [top_5_first_query[3], top_5_second_query[3], top_5_third_query[3]]\n",
        "})\n"
      ],
      "execution_count": 98,
      "outputs": [
        {
          "output_type": "execute_result",
          "data": {
            "text/html": [
              "<div>\n",
              "<style scoped>\n",
              "    .dataframe tbody tr th:only-of-type {\n",
              "        vertical-align: middle;\n",
              "    }\n",
              "\n",
              "    .dataframe tbody tr th {\n",
              "        vertical-align: top;\n",
              "    }\n",
              "\n",
              "    .dataframe thead th {\n",
              "        text-align: right;\n",
              "    }\n",
              "</style>\n",
              "<table border=\"1\" class=\"dataframe\">\n",
              "  <thead>\n",
              "    <tr style=\"text-align: right;\">\n",
              "      <th></th>\n",
              "      <th>Consultas</th>\n",
              "      <th>Binary</th>\n",
              "      <th>Term Frequency</th>\n",
              "      <th>TF_IDF</th>\n",
              "      <th>BM25</th>\n",
              "    </tr>\n",
              "  </thead>\n",
              "  <tbody>\n",
              "    <tr>\n",
              "      <th>0</th>\n",
              "      <td>jair bolsonaro</td>\n",
              "      <td>[(2, 238), (2, 237), (2, 231), (2, 224), (2, 2...</td>\n",
              "      <td>[(41, 207), (37, 151), (31, 166), (19, 19), (1...</td>\n",
              "      <td>[(11.18, 207), (1.99, 239), (1.99, 221), (1.99...</td>\n",
              "      <td>[(4.52, 207), (1.66, 151), (0.87, 239), (0.87,...</td>\n",
              "    </tr>\n",
              "    <tr>\n",
              "      <th>1</th>\n",
              "      <td>investigados policia</td>\n",
              "      <td>[(1, 235), (1, 207), (1, 206), (1, 204), (1, 1...</td>\n",
              "      <td>[(2, 207), (2, 206), (1, 235), (1, 204), (1, 1...</td>\n",
              "      <td>[(6.88, 207), (6.88, 206), (3.44, 235), (3.44,...</td>\n",
              "      <td>[(2.85, 207), (2.85, 206), (1.49, 235), (1.49,...</td>\n",
              "    </tr>\n",
              "    <tr>\n",
              "      <th>2</th>\n",
              "      <td>lava jato</td>\n",
              "      <td>[(2, 206), (2, 204), (2, 202), (2, 171), (2, 1...</td>\n",
              "      <td>[(6, 204), (5, 162), (3, 206), (2, 202), (2, 1...</td>\n",
              "      <td>[(18.2, 204), (15.16, 162), (9.1, 206), (6.07,...</td>\n",
              "      <td>[(7.22, 204), (6.13, 162), (3.84, 206), (2.64,...</td>\n",
              "    </tr>\n",
              "  </tbody>\n",
              "</table>\n",
              "</div>"
            ],
            "text/plain": [
              "              Consultas  ...                                               BM25\n",
              "0        jair bolsonaro  ...  [(4.52, 207), (1.66, 151), (0.87, 239), (0.87,...\n",
              "1  investigados policia  ...  [(2.85, 207), (2.85, 206), (1.49, 235), (1.49,...\n",
              "2             lava jato  ...  [(7.22, 204), (6.13, 162), (3.84, 206), (2.64,...\n",
              "\n",
              "[3 rows x 5 columns]"
            ]
          },
          "metadata": {
            "tags": []
          },
          "execution_count": 98
        }
      ]
    },
    {
      "cell_type": "markdown",
      "metadata": {
        "id": "b_CsSWY0lRWt",
        "colab_type": "text"
      },
      "source": [
        "# 5. Compare os resultados encontrados e responda. (20 pts)"
      ]
    },
    {
      "cell_type": "markdown",
      "metadata": {
        "id": "XuZ4k2P0Fxey",
        "colab_type": "text"
      },
      "source": [
        "## 5.1 - Quais modelos você acha que trouxe os melhores resultados? Por que? Inspecione os documentos retornados para melhor embasar sua resposta."
      ]
    },
    {
      "cell_type": "markdown",
      "metadata": {
        "id": "ms8aP6NJF9FR",
        "colab_type": "text"
      },
      "source": [
        "#### -> É razoável tomar a decisão de imediato excluir da análise os algoritmos de 'Representação Binária' e *'Term Frequency'*, pois se sabe que são mais simples e menos efetivos. Sendo assim, a análise fica entre o BM25 e o TF_IDF. Para esses dois modelos, observando os resultados para as consultas na tabela acima, percebe-se que apenas para a consulta \"jair bolsonaro\" os resultados diferem. Sendo assim, tomei a iniciativa de verificar mais a fundo esses documentos que diferem:\n",
        "\n",
        "#### Documentos que diferem para query \"jair bolsonaro\": \n",
        "\n",
        "239 - \"Atos por memória das vítimas da ditadura se multiplicam em revés a revisionismo de Bolsonaro\"(TF_IDF) e 151 - \"Grupos que sustentam Maduro serão principal desafio a qualquer futuro governo na Venezuela\"(BM25) -\n",
        "\n",
        "221- \"Ferrovia Norte-Sul vale três vezes mais que previsto em edital  aponta estudo\"(TF_IDF) e 239 - \"Atos por memória das vítimas da ditadura se multiplicam em revés a revisionismo de Bolsonaro\"(BM25)\n",
        "\n",
        "#### A diferença entre os documentos recuperados em relação ao conteudo da consulta é muito sutil e dificulta um pouco para saber qual modelo trouxe melhores resultados. Porém, sendo necessário escolher um dos dois, escolho o BM25 como mais efetivo, pelo fato de que a notícia \"Ferrovia Norte-Sul vale três vezes mais que previsto em edital  aponta estudo\" pode talvez não ser diretamente envolvida com a query \"Jair Bolsonaro\"\n"
      ]
    }
  ]
}